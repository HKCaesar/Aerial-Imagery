{
 "cells": [
  {
   "cell_type": "markdown",
   "metadata": {},
   "source": [
    "This script uses geopandas to read the census information of Pittburgh."
   ]
  },
  {
   "cell_type": "markdown",
   "metadata": {},
   "source": [
    "## Load Libraries"
   ]
  },
  {
   "cell_type": "code",
   "execution_count": 47,
   "metadata": {
    "collapsed": true
   },
   "outputs": [],
   "source": [
    "import os\n",
    "import csv\n",
    "import zipfile\n",
    "import string\n",
    "import pandas as pd\n",
    "import datetime as dt\n",
    "import numpy as np"
   ]
  },
  {
   "cell_type": "code",
   "execution_count": 48,
   "metadata": {
    "collapsed": false
   },
   "outputs": [],
   "source": [
    "import geopandas as gpd\n",
    "import shapely\n",
    "from geopy.geocoders import GoogleV3"
   ]
  },
  {
   "cell_type": "code",
   "execution_count": 49,
   "metadata": {
    "collapsed": false
   },
   "outputs": [],
   "source": [
    "import rtree"
   ]
  },
  {
   "cell_type": "markdown",
   "metadata": {},
   "source": [
    "## Load Census info"
   ]
  },
  {
   "cell_type": "code",
   "execution_count": 39,
   "metadata": {
    "collapsed": false
   },
   "outputs": [
    {
     "data": {
      "text/plain": [
       "u'/home/nikhil/GitHub/Code'"
      ]
     },
     "execution_count": 39,
     "metadata": {},
     "output_type": "execute_result"
    }
   ],
   "source": [
    "pwd"
   ]
  },
  {
   "cell_type": "code",
   "execution_count": 18,
   "metadata": {
    "collapsed": false
   },
   "outputs": [
    {
     "data": {
      "text/plain": [
       "'../Dataset/ACS_2014_5YR_TRACT_42.gdb.zip'"
      ]
     },
     "execution_count": 18,
     "metadata": {},
     "output_type": "execute_result"
    }
   ],
   "source": [
    "# Set location of file\n",
    "path = os.path.join(\"../Dataset/ACS_2014_5YR_TRACT_42.gdb.zip\")\n",
    "path"
   ]
  },
  {
   "cell_type": "code",
   "execution_count": 13,
   "metadata": {
    "collapsed": false
   },
   "outputs": [],
   "source": [
    "zf = zipfile.ZipFile(path)"
   ]
  },
  {
   "cell_type": "code",
   "execution_count": 23,
   "metadata": {
    "collapsed": false
   },
   "outputs": [
    {
     "data": {
      "text/html": [
       "<div>\n",
       "<table border=\"1\" class=\"dataframe\">\n",
       "  <thead>\n",
       "    <tr style=\"text-align: right;\">\n",
       "      <th></th>\n",
       "      <th>ALAND</th>\n",
       "      <th>AWATER</th>\n",
       "      <th>COUNTYFP</th>\n",
       "      <th>FUNCSTAT</th>\n",
       "      <th>GEOID</th>\n",
       "      <th>GEOID_Data</th>\n",
       "      <th>INTPTLAT</th>\n",
       "      <th>INTPTLON</th>\n",
       "      <th>MTFCC</th>\n",
       "      <th>NAME</th>\n",
       "      <th>NAMELSAD</th>\n",
       "      <th>STATEFP</th>\n",
       "      <th>Shape_Area</th>\n",
       "      <th>Shape_Length</th>\n",
       "      <th>TRACTCE</th>\n",
       "      <th>geometry</th>\n",
       "    </tr>\n",
       "  </thead>\n",
       "  <tbody>\n",
       "    <tr>\n",
       "      <th>0</th>\n",
       "      <td>7608630.0</td>\n",
       "      <td>2509724.0</td>\n",
       "      <td>017</td>\n",
       "      <td>S</td>\n",
       "      <td>42017100102</td>\n",
       "      <td>14000US42017100102</td>\n",
       "      <td>+40.0745595</td>\n",
       "      <td>-074.9405810</td>\n",
       "      <td>G5020</td>\n",
       "      <td>1001.02</td>\n",
       "      <td>Census Tract 1001.02</td>\n",
       "      <td>42</td>\n",
       "      <td>0.001068</td>\n",
       "      <td>0.189252</td>\n",
       "      <td>100102</td>\n",
       "      <td>(POLYGON ((-74.98425399982222 40.0559019997775...</td>\n",
       "    </tr>\n",
       "    <tr>\n",
       "      <th>1</th>\n",
       "      <td>1572547.0</td>\n",
       "      <td>9817.0</td>\n",
       "      <td>017</td>\n",
       "      <td>S</td>\n",
       "      <td>42017100103</td>\n",
       "      <td>14000US42017100103</td>\n",
       "      <td>+40.0687610</td>\n",
       "      <td>-074.9713318</td>\n",
       "      <td>G5020</td>\n",
       "      <td>1001.03</td>\n",
       "      <td>Census Tract 1001.03</td>\n",
       "      <td>42</td>\n",
       "      <td>0.000167</td>\n",
       "      <td>0.070063</td>\n",
       "      <td>100103</td>\n",
       "      <td>(POLYGON ((-74.98489299961221 40.0572869997952...</td>\n",
       "    </tr>\n",
       "    <tr>\n",
       "      <th>2</th>\n",
       "      <td>2409070.0</td>\n",
       "      <td>35484.0</td>\n",
       "      <td>091</td>\n",
       "      <td>S</td>\n",
       "      <td>42091201411</td>\n",
       "      <td>14000US42091201411</td>\n",
       "      <td>+40.1444849</td>\n",
       "      <td>-075.2140269</td>\n",
       "      <td>G5020</td>\n",
       "      <td>2014.11</td>\n",
       "      <td>Census Tract 2014.11</td>\n",
       "      <td>42</td>\n",
       "      <td>0.000258</td>\n",
       "      <td>0.099649</td>\n",
       "      <td>201411</td>\n",
       "      <td>(POLYGON ((-75.23313900006474 40.1509280004269...</td>\n",
       "    </tr>\n",
       "    <tr>\n",
       "      <th>3</th>\n",
       "      <td>1966899.0</td>\n",
       "      <td>12199.0</td>\n",
       "      <td>017</td>\n",
       "      <td>S</td>\n",
       "      <td>42017100104</td>\n",
       "      <td>14000US42017100104</td>\n",
       "      <td>+40.0918428</td>\n",
       "      <td>-074.9501748</td>\n",
       "      <td>G5020</td>\n",
       "      <td>1001.04</td>\n",
       "      <td>Census Tract 1001.04</td>\n",
       "      <td>42</td>\n",
       "      <td>0.000209</td>\n",
       "      <td>0.087246</td>\n",
       "      <td>100104</td>\n",
       "      <td>(POLYGON ((-74.96488299955075 40.0772729996492...</td>\n",
       "    </tr>\n",
       "    <tr>\n",
       "      <th>4</th>\n",
       "      <td>2663937.0</td>\n",
       "      <td>0.0</td>\n",
       "      <td>017</td>\n",
       "      <td>S</td>\n",
       "      <td>42017100105</td>\n",
       "      <td>14000US42017100105</td>\n",
       "      <td>+40.0821350</td>\n",
       "      <td>-074.9478227</td>\n",
       "      <td>G5020</td>\n",
       "      <td>1001.05</td>\n",
       "      <td>Census Tract 1001.05</td>\n",
       "      <td>42</td>\n",
       "      <td>0.000281</td>\n",
       "      <td>0.079053</td>\n",
       "      <td>100105</td>\n",
       "      <td>(POLYGON ((-74.96310300020326 40.0729419995736...</td>\n",
       "    </tr>\n",
       "  </tbody>\n",
       "</table>\n",
       "</div>"
      ],
      "text/plain": [
       "       ALAND     AWATER COUNTYFP FUNCSTAT        GEOID          GEOID_Data  \\\n",
       "0  7608630.0  2509724.0      017        S  42017100102  14000US42017100102   \n",
       "1  1572547.0     9817.0      017        S  42017100103  14000US42017100103   \n",
       "2  2409070.0    35484.0      091        S  42091201411  14000US42091201411   \n",
       "3  1966899.0    12199.0      017        S  42017100104  14000US42017100104   \n",
       "4  2663937.0        0.0      017        S  42017100105  14000US42017100105   \n",
       "\n",
       "      INTPTLAT      INTPTLON  MTFCC     NAME              NAMELSAD STATEFP  \\\n",
       "0  +40.0745595  -074.9405810  G5020  1001.02  Census Tract 1001.02      42   \n",
       "1  +40.0687610  -074.9713318  G5020  1001.03  Census Tract 1001.03      42   \n",
       "2  +40.1444849  -075.2140269  G5020  2014.11  Census Tract 2014.11      42   \n",
       "3  +40.0918428  -074.9501748  G5020  1001.04  Census Tract 1001.04      42   \n",
       "4  +40.0821350  -074.9478227  G5020  1001.05  Census Tract 1001.05      42   \n",
       "\n",
       "   Shape_Area  Shape_Length TRACTCE  \\\n",
       "0    0.001068      0.189252  100102   \n",
       "1    0.000167      0.070063  100103   \n",
       "2    0.000258      0.099649  201411   \n",
       "3    0.000209      0.087246  100104   \n",
       "4    0.000281      0.079053  100105   \n",
       "\n",
       "                                            geometry  \n",
       "0  (POLYGON ((-74.98425399982222 40.0559019997775...  \n",
       "1  (POLYGON ((-74.98489299961221 40.0572869997952...  \n",
       "2  (POLYGON ((-75.23313900006474 40.1509280004269...  \n",
       "3  (POLYGON ((-74.96488299955075 40.0772729996492...  \n",
       "4  (POLYGON ((-74.96310300020326 40.0729419995736...  "
      ]
     },
     "execution_count": 23,
     "metadata": {},
     "output_type": "execute_result"
    }
   ],
   "source": [
    "df_neigh = gpd.read_file(path);\n",
    "df_neigh.head()"
   ]
  },
  {
   "cell_type": "code",
   "execution_count": 35,
   "metadata": {
    "collapsed": false
   },
   "outputs": [
    {
     "data": {
      "text/plain": [
       "'MultiPolygon'"
      ]
     },
     "execution_count": 35,
     "metadata": {},
     "output_type": "execute_result"
    }
   ],
   "source": [
    "df_neigh.geometry[0].geom_type"
   ]
  },
  {
   "cell_type": "code",
   "execution_count": 40,
   "metadata": {
    "collapsed": false
   },
   "outputs": [
    {
     "data": {
      "text/plain": [
       "3218"
      ]
     },
     "execution_count": 40,
     "metadata": {},
     "output_type": "execute_result"
    }
   ],
   "source": [
    "len(df_neigh)"
   ]
  },
  {
   "cell_type": "code",
   "execution_count": 42,
   "metadata": {
    "collapsed": false
   },
   "outputs": [
    {
     "data": {
      "text/plain": [
       "4.35052827843381"
      ]
     },
     "execution_count": 42,
     "metadata": {},
     "output_type": "execute_result"
    }
   ],
   "source": [
    "14000/3218.0"
   ]
  },
  {
   "cell_type": "code",
   "execution_count": null,
   "metadata": {
    "collapsed": true
   },
   "outputs": [],
   "source": []
  }
 ],
 "metadata": {
  "kernelspec": {
   "display_name": "Python 2",
   "language": "python",
   "name": "python2"
  },
  "language_info": {
   "codemirror_mode": {
    "name": "ipython",
    "version": 2
   },
   "file_extension": ".py",
   "mimetype": "text/x-python",
   "name": "python",
   "nbconvert_exporter": "python",
   "pygments_lexer": "ipython2",
   "version": "2.7.13"
  }
 },
 "nbformat": 4,
 "nbformat_minor": 2
}
