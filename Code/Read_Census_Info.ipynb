{
 "cells": [
  {
   "cell_type": "markdown",
   "metadata": {},
   "source": [
    "This script uses geopandas to read the census information of Pittburgh."
   ]
  },
  {
   "cell_type": "markdown",
   "metadata": {},
   "source": [
    "# Installing Libraries"
   ]
  },
  {
   "cell_type": "markdown",
   "metadata": {},
   "source": [
    "While most basic Python Libraries taht are used in this notebook are pre-installed on your system, you might want to install additional libraries. The following code is tested on Linux OS, Python 2.7.\n",
    "\n",
    "You can install GeoPandas, Shapely (automatically installed as a dependency of GeoPandas), and GeoPy using pip. Additionally, you might have to install Rtree to install relevant geopandas dependency.\n",
    "\n",
    "    $ pip install --upgrade geopandas geopy\n",
    "$ conda install -c ioos rtree\n",
    "\n",
    "To ensue that all the packages have been installed correctly, please run the following code. If error still persists, you might want to look at the original documentation for troubleshooting."
   ]
  },
  {
   "cell_type": "code",
   "execution_count": 1,
   "metadata": {
    "collapsed": false
   },
   "outputs": [],
   "source": [
    "import geopandas as gpd\n",
    "import shapely\n",
    "from geopy.geocoders import GoogleV3\n",
    "import rtree\n",
    "import fiona"
   ]
  },
  {
   "cell_type": "markdown",
   "metadata": {},
   "source": [
    "Additional libraries:"
   ]
  },
  {
   "cell_type": "code",
   "execution_count": 2,
   "metadata": {
    "collapsed": true
   },
   "outputs": [],
   "source": [
    "import os\n",
    "import csv\n",
    "import zipfile\n",
    "import string\n",
    "import pandas as pd\n",
    "import datetime as dt\n",
    "import numpy as np"
   ]
  },
  {
   "cell_type": "markdown",
   "metadata": {},
   "source": [
    "## Load Census info"
   ]
  },
  {
   "cell_type": "code",
   "execution_count": 3,
   "metadata": {
    "collapsed": false
   },
   "outputs": [
    {
     "data": {
      "text/plain": [
       "'../Dataset/ACS_2014_5YR_TRACT_42.gdb.zip'"
      ]
     },
     "execution_count": 3,
     "metadata": {},
     "output_type": "execute_result"
    }
   ],
   "source": [
    "# Set location of file\n",
    "filepath = \"../Dataset/ACS_2014_5YR_TRACT_42.gdb.zip\"\n",
    "filepath"
   ]
  },
  {
   "cell_type": "code",
   "execution_count": 4,
   "metadata": {
    "collapsed": false
   },
   "outputs": [
    {
     "data": {
      "text/plain": [
       "['ACS_2014_5YR_TRACT_42_PENNSYLVANIA',\n",
       " 'TRACT_METADATA_2014',\n",
       " 'X00_COUNTS',\n",
       " 'X01_AGE_AND_SEX',\n",
       " 'X02_RACE',\n",
       " 'X03_HISPANIC_OR_LATINO_ORIGIN',\n",
       " 'X04_ANCESTRY',\n",
       " 'X05_FOREIGN_BORN_CITIZENSHIP',\n",
       " 'X06_PLACE_OF_BIRTH',\n",
       " 'X07_MIGRATION',\n",
       " 'X08_COMMUTING',\n",
       " 'X09_CHILDREN_HOUSEHOLD_RELATIONSHIP',\n",
       " 'X10_GRANDPARENTS_GRANDCHILDREN',\n",
       " 'X11_HOUSEHOLD_FAMILY_SUBFAMILIES',\n",
       " 'X12_MARITAL_STATUS_AND_HISTORY',\n",
       " 'X13_FERTILITY',\n",
       " 'X14_SCHOOL_ENROLLMENT',\n",
       " 'X15_EDUCATIONAL_ATTAINMENT',\n",
       " 'X16_LANGUAGE_SPOKEN_AT_HOME',\n",
       " 'X17_POVERTY',\n",
       " 'X18_DISABILITY',\n",
       " 'X19_INCOME',\n",
       " 'X20_EARNINGS',\n",
       " 'X21_VETERAN_STATUS',\n",
       " 'X22_FOOD_STAMPS',\n",
       " 'X23_EMPLOYMENT_STATUS',\n",
       " 'X24_INDUSTRY_OCCUPATION',\n",
       " 'X25_HOUSING_CHARACTERISTICS',\n",
       " 'X26_GROUP_QUARTERS',\n",
       " 'X27_HEALTH_INSURANCE',\n",
       " 'X99_IMPUTATION']"
      ]
     },
     "execution_count": 4,
     "metadata": {},
     "output_type": "execute_result"
    }
   ],
   "source": [
    "fiona.listlayers(filepath)"
   ]
  },
  {
   "cell_type": "markdown",
   "metadata": {},
   "source": [
    "Metadata of column shortnames"
   ]
  },
  {
   "cell_type": "code",
   "execution_count": 5,
   "metadata": {
    "collapsed": false,
    "scrolled": true
   },
   "outputs": [
    {
     "data": {
      "text/html": [
       "<div>\n",
       "<table border=\"1\" class=\"dataframe\">\n",
       "  <thead>\n",
       "    <tr style=\"text-align: right;\">\n",
       "      <th></th>\n",
       "      <th>Full_Name</th>\n",
       "      <th>Short_Name</th>\n",
       "      <th>geometry</th>\n",
       "    </tr>\n",
       "  </thead>\n",
       "  <tbody>\n",
       "    <tr>\n",
       "      <th>0</th>\n",
       "      <td>UNWEIGHTED SAMPLE COUNT OF THE POPULATION: Tot...</td>\n",
       "      <td>B00001e1</td>\n",
       "      <td>None</td>\n",
       "    </tr>\n",
       "    <tr>\n",
       "      <th>1</th>\n",
       "      <td>UNWEIGHTED SAMPLE COUNT OF THE POPULATION: Tot...</td>\n",
       "      <td>B00001m1</td>\n",
       "      <td>None</td>\n",
       "    </tr>\n",
       "    <tr>\n",
       "      <th>2</th>\n",
       "      <td>UNWEIGHTED SAMPLE HOUSING UNITS: Total: Housin...</td>\n",
       "      <td>B00002e1</td>\n",
       "      <td>None</td>\n",
       "    </tr>\n",
       "    <tr>\n",
       "      <th>3</th>\n",
       "      <td>UNWEIGHTED SAMPLE HOUSING UNITS: Total: Housin...</td>\n",
       "      <td>B00002m1</td>\n",
       "      <td>None</td>\n",
       "    </tr>\n",
       "    <tr>\n",
       "      <th>4</th>\n",
       "      <td>SEX BY AGE: Total: Total population -- (Estimate)</td>\n",
       "      <td>B01001e1</td>\n",
       "      <td>None</td>\n",
       "    </tr>\n",
       "  </tbody>\n",
       "</table>\n",
       "</div>"
      ],
      "text/plain": [
       "                                           Full_Name Short_Name geometry\n",
       "0  UNWEIGHTED SAMPLE COUNT OF THE POPULATION: Tot...   B00001e1     None\n",
       "1  UNWEIGHTED SAMPLE COUNT OF THE POPULATION: Tot...   B00001m1     None\n",
       "2  UNWEIGHTED SAMPLE HOUSING UNITS: Total: Housin...   B00002e1     None\n",
       "3  UNWEIGHTED SAMPLE HOUSING UNITS: Total: Housin...   B00002m1     None\n",
       "4  SEX BY AGE: Total: Total population -- (Estimate)   B01001e1     None"
      ]
     },
     "execution_count": 5,
     "metadata": {},
     "output_type": "execute_result"
    }
   ],
   "source": [
    "df_metadata = gpd.read_file(filepath, layer=\"TRACT_METADATA_2014\");\n",
    "df_metadata.head()"
   ]
  },
  {
   "cell_type": "code",
   "execution_count": 6,
   "metadata": {
    "collapsed": false
   },
   "outputs": [
    {
     "data": {
      "text/plain": [
       "35344"
      ]
     },
     "execution_count": 6,
     "metadata": {},
     "output_type": "execute_result"
    }
   ],
   "source": [
    "len(df_metadata)"
   ]
  },
  {
   "cell_type": "markdown",
   "metadata": {},
   "source": [
    "Income data for tracts"
   ]
  },
  {
   "cell_type": "code",
   "execution_count": 7,
   "metadata": {
    "collapsed": false
   },
   "outputs": [
    {
     "data": {
      "text/html": [
       "<div>\n",
       "<table border=\"1\" class=\"dataframe\">\n",
       "  <thead>\n",
       "    <tr style=\"text-align: right;\">\n",
       "      <th></th>\n",
       "      <th>B19001Ae1</th>\n",
       "      <th>B19001Ae10</th>\n",
       "      <th>B19001Ae11</th>\n",
       "      <th>B19001Ae12</th>\n",
       "      <th>B19001Ae13</th>\n",
       "      <th>B19001Ae14</th>\n",
       "      <th>B19001Ae15</th>\n",
       "      <th>B19001Ae16</th>\n",
       "      <th>B19001Ae17</th>\n",
       "      <th>B19001Ae2</th>\n",
       "      <th>...</th>\n",
       "      <th>B19326e7</th>\n",
       "      <th>B19326m1</th>\n",
       "      <th>B19326m2</th>\n",
       "      <th>B19326m3</th>\n",
       "      <th>B19326m4</th>\n",
       "      <th>B19326m5</th>\n",
       "      <th>B19326m6</th>\n",
       "      <th>B19326m7</th>\n",
       "      <th>GEOID</th>\n",
       "      <th>geometry</th>\n",
       "    </tr>\n",
       "  </thead>\n",
       "  <tbody>\n",
       "    <tr>\n",
       "      <th>0</th>\n",
       "      <td>929</td>\n",
       "      <td>39</td>\n",
       "      <td>83</td>\n",
       "      <td>143</td>\n",
       "      <td>186</td>\n",
       "      <td>123</td>\n",
       "      <td>72</td>\n",
       "      <td>64</td>\n",
       "      <td>38</td>\n",
       "      <td>20</td>\n",
       "      <td>...</td>\n",
       "      <td>11038.0</td>\n",
       "      <td>3242.0</td>\n",
       "      <td>6464.0</td>\n",
       "      <td>8774.0</td>\n",
       "      <td>11889.0</td>\n",
       "      <td>4817.0</td>\n",
       "      <td>5275.0</td>\n",
       "      <td>2063.0</td>\n",
       "      <td>14000US42001030101</td>\n",
       "      <td>None</td>\n",
       "    </tr>\n",
       "    <tr>\n",
       "      <th>1</th>\n",
       "      <td>2149</td>\n",
       "      <td>120</td>\n",
       "      <td>244</td>\n",
       "      <td>347</td>\n",
       "      <td>337</td>\n",
       "      <td>214</td>\n",
       "      <td>125</td>\n",
       "      <td>71</td>\n",
       "      <td>58</td>\n",
       "      <td>14</td>\n",
       "      <td>...</td>\n",
       "      <td>11630.0</td>\n",
       "      <td>2262.0</td>\n",
       "      <td>6865.0</td>\n",
       "      <td>6585.0</td>\n",
       "      <td>3613.0</td>\n",
       "      <td>5289.0</td>\n",
       "      <td>12849.0</td>\n",
       "      <td>2947.0</td>\n",
       "      <td>14000US42001030102</td>\n",
       "      <td>None</td>\n",
       "    </tr>\n",
       "    <tr>\n",
       "      <th>2</th>\n",
       "      <td>1850</td>\n",
       "      <td>68</td>\n",
       "      <td>227</td>\n",
       "      <td>143</td>\n",
       "      <td>291</td>\n",
       "      <td>200</td>\n",
       "      <td>75</td>\n",
       "      <td>53</td>\n",
       "      <td>30</td>\n",
       "      <td>50</td>\n",
       "      <td>...</td>\n",
       "      <td>12418.0</td>\n",
       "      <td>1925.0</td>\n",
       "      <td>2770.0</td>\n",
       "      <td>3066.0</td>\n",
       "      <td>2107.0</td>\n",
       "      <td>2990.0</td>\n",
       "      <td>3906.0</td>\n",
       "      <td>1231.0</td>\n",
       "      <td>14000US42001030200</td>\n",
       "      <td>None</td>\n",
       "    </tr>\n",
       "    <tr>\n",
       "      <th>3</th>\n",
       "      <td>1441</td>\n",
       "      <td>49</td>\n",
       "      <td>191</td>\n",
       "      <td>175</td>\n",
       "      <td>321</td>\n",
       "      <td>121</td>\n",
       "      <td>52</td>\n",
       "      <td>33</td>\n",
       "      <td>48</td>\n",
       "      <td>45</td>\n",
       "      <td>...</td>\n",
       "      <td>13775.0</td>\n",
       "      <td>2590.0</td>\n",
       "      <td>4893.0</td>\n",
       "      <td>5220.0</td>\n",
       "      <td>3467.0</td>\n",
       "      <td>4741.0</td>\n",
       "      <td>6186.0</td>\n",
       "      <td>3249.0</td>\n",
       "      <td>14000US42001030300</td>\n",
       "      <td>None</td>\n",
       "    </tr>\n",
       "    <tr>\n",
       "      <th>4</th>\n",
       "      <td>2127</td>\n",
       "      <td>50</td>\n",
       "      <td>92</td>\n",
       "      <td>303</td>\n",
       "      <td>226</td>\n",
       "      <td>151</td>\n",
       "      <td>201</td>\n",
       "      <td>117</td>\n",
       "      <td>74</td>\n",
       "      <td>104</td>\n",
       "      <td>...</td>\n",
       "      <td>13513.0</td>\n",
       "      <td>3654.0</td>\n",
       "      <td>4830.0</td>\n",
       "      <td>5447.0</td>\n",
       "      <td>6358.0</td>\n",
       "      <td>7768.0</td>\n",
       "      <td>2851.0</td>\n",
       "      <td>2771.0</td>\n",
       "      <td>14000US42001030400</td>\n",
       "      <td>None</td>\n",
       "    </tr>\n",
       "  </tbody>\n",
       "</table>\n",
       "<p>5 rows × 2994 columns</p>\n",
       "</div>"
      ],
      "text/plain": [
       "   B19001Ae1  B19001Ae10  B19001Ae11  B19001Ae12  B19001Ae13  B19001Ae14  \\\n",
       "0        929          39          83         143         186         123   \n",
       "1       2149         120         244         347         337         214   \n",
       "2       1850          68         227         143         291         200   \n",
       "3       1441          49         191         175         321         121   \n",
       "4       2127          50          92         303         226         151   \n",
       "\n",
       "   B19001Ae15  B19001Ae16  B19001Ae17  B19001Ae2    ...     B19326e7  \\\n",
       "0          72          64          38         20    ...      11038.0   \n",
       "1         125          71          58         14    ...      11630.0   \n",
       "2          75          53          30         50    ...      12418.0   \n",
       "3          52          33          48         45    ...      13775.0   \n",
       "4         201         117          74        104    ...      13513.0   \n",
       "\n",
       "   B19326m1  B19326m2  B19326m3  B19326m4  B19326m5  B19326m6  B19326m7  \\\n",
       "0    3242.0    6464.0    8774.0   11889.0    4817.0    5275.0    2063.0   \n",
       "1    2262.0    6865.0    6585.0    3613.0    5289.0   12849.0    2947.0   \n",
       "2    1925.0    2770.0    3066.0    2107.0    2990.0    3906.0    1231.0   \n",
       "3    2590.0    4893.0    5220.0    3467.0    4741.0    6186.0    3249.0   \n",
       "4    3654.0    4830.0    5447.0    6358.0    7768.0    2851.0    2771.0   \n",
       "\n",
       "                GEOID  geometry  \n",
       "0  14000US42001030101      None  \n",
       "1  14000US42001030102      None  \n",
       "2  14000US42001030200      None  \n",
       "3  14000US42001030300      None  \n",
       "4  14000US42001030400      None  \n",
       "\n",
       "[5 rows x 2994 columns]"
      ]
     },
     "execution_count": 7,
     "metadata": {},
     "output_type": "execute_result"
    }
   ],
   "source": [
    "df_income = gpd.read_file(filepath, layer=\"X19_INCOME\");\n",
    "df_income.head()"
   ]
  },
  {
   "cell_type": "code",
   "execution_count": 8,
   "metadata": {
    "collapsed": false
   },
   "outputs": [
    {
     "data": {
      "text/plain": [
       "3218"
      ]
     },
     "execution_count": 8,
     "metadata": {},
     "output_type": "execute_result"
    }
   ],
   "source": [
    "len(df_income)"
   ]
  },
  {
   "cell_type": "code",
   "execution_count": null,
   "metadata": {
    "collapsed": false
   },
   "outputs": [],
   "source": [
    "# df_poverty = gpd.read_file(filepath, layer=\"X17_POVERTY\");\n",
    "# df_poverty.head()"
   ]
  },
  {
   "cell_type": "code",
   "execution_count": null,
   "metadata": {
    "collapsed": true
   },
   "outputs": [],
   "source": [
    "# fullname = []\n",
    "# for colname in df_poverty.columns:\n",
    "#     fullname.append(df_metadata.Full_Name[df_metadata.Short_Name == colname].values)"
   ]
  },
  {
   "cell_type": "markdown",
   "metadata": {},
   "source": [
    "Selecting 1/2994 column from income df that best describes the wealth level of a tract"
   ]
  },
  {
   "cell_type": "code",
   "execution_count": 11,
   "metadata": {
    "collapsed": true
   },
   "outputs": [],
   "source": [
    "fullname = []\n",
    "for colname in df_income.columns:\n",
    "    fullname.extend(df_metadata.Full_Name[df_metadata.Short_Name == colname].values)"
   ]
  },
  {
   "cell_type": "code",
   "execution_count": 12,
   "metadata": {
    "collapsed": false
   },
   "outputs": [
    {
     "data": {
      "text/plain": [
       "[u'HOUSEHOLD INCOME IN THE PAST 12 MONTHS (IN 2014 INFLATION-ADJUSTED DOLLARS) (WHITE ALONE HOUSEHOLDER): Total: Households with a householder who is White alone -- (Estimate)',\n",
       " u'HOUSEHOLD INCOME IN THE PAST 12 MONTHS (IN 2014 INFLATION-ADJUSTED DOLLARS) (WHITE ALONE HOUSEHOLDER): $45,000 to $49,999: Households with a householder who is White alone -- (Estimate)']"
      ]
     },
     "execution_count": 12,
     "metadata": {},
     "output_type": "execute_result"
    }
   ],
   "source": [
    "fullname[:2]"
   ]
  },
  {
   "cell_type": "code",
   "execution_count": 13,
   "metadata": {
    "collapsed": false
   },
   "outputs": [],
   "source": [
    "sub = 'ALONE'\n",
    "sub1 = 'WHITE ALONE'\n",
    "sub2 = 'BLACK OR AFRICAN AMERICAN ALONE'\n",
    "sub3 = 'AMERICAN INDIAN AND ALASKA NATIVE ALONE'\n",
    "sub4 = 'ASIAN ALONE'\n",
    "sub5 = 'NATIVE HAWAIIAN AND OTHER PACIFIC ISLANDER ALONE'\n",
    "sub6 = 'SOME OTHER RACE ALONE'\n",
    "sub7 = 'HISPANIC OR LATINO'\n",
    "sub8 = 'RACE'\n",
    "sub9 = 'FAMILY'\n",
    "sub10 = 'BY'\n",
    "temp = []\n",
    "names = []\n",
    "shortname = []\n",
    "for val in fullname:\n",
    "    if sub not in val and \\\n",
    "        sub7 not in val and \\\n",
    "        sub8 not in val and \\\n",
    "        sub9 not in val and \\\n",
    "        sub10 not in val and \\\n",
    "        '$' not in val and \\\n",
    "        'Quintile' not in val and \\\n",
    "        'Estimate' in val and \\\n",
    "        'Total' in val and \\\n",
    "        'DIVIDENDS' not in val and \\\n",
    "        'OTHER' not in val and \\\n",
    "        'ASSISTANCE' not in val and \\\n",
    "        'RETIREMENT' not in val and \\\n",
    "        'EMPLOYMENT' not in val and \\\n",
    "        'SUPPLEMENTAL' not in val and \\\n",
    "        'SECURITY' not in val and \\\n",
    "        'WAGE' not in val and \\\n",
    "        '(IN 2014 INFLATION-ADJUSTED DOLLARS)' in val:\n",
    "        index = val.index('IN THE PAST')\n",
    "        names.append(val)\n",
    "        shortname.extend(df_metadata.Short_Name[df_metadata.Full_Name == val].values)"
   ]
  },
  {
   "cell_type": "code",
   "execution_count": 17,
   "metadata": {
    "collapsed": false
   },
   "outputs": [
    {
     "data": {
      "text/plain": [
       "6"
      ]
     },
     "execution_count": 17,
     "metadata": {},
     "output_type": "execute_result"
    }
   ],
   "source": [
    "len(names)"
   ]
  },
  {
   "cell_type": "code",
   "execution_count": 18,
   "metadata": {
    "collapsed": false
   },
   "outputs": [
    {
     "data": {
      "text/plain": [
       "[u'B19001e1', u'B19013e1', u'B19025e1', u'B19061e1', u'B19301e1', u'B19313e1']"
      ]
     },
     "execution_count": 18,
     "metadata": {},
     "output_type": "execute_result"
    }
   ],
   "source": [
    "shortname"
   ]
  },
  {
   "cell_type": "code",
   "execution_count": 19,
   "metadata": {
    "collapsed": false
   },
   "outputs": [
    {
     "data": {
      "text/html": [
       "<div>\n",
       "<table border=\"1\" class=\"dataframe\">\n",
       "  <thead>\n",
       "    <tr style=\"text-align: right;\">\n",
       "      <th></th>\n",
       "      <th>Full_Name</th>\n",
       "      <th>Short_Name</th>\n",
       "      <th>geometry</th>\n",
       "    </tr>\n",
       "  </thead>\n",
       "  <tbody>\n",
       "    <tr>\n",
       "      <th>18942</th>\n",
       "      <td>HOUSEHOLD INCOME IN THE PAST 12 MONTHS (IN 201...</td>\n",
       "      <td>B19001e1</td>\n",
       "      <td>None</td>\n",
       "    </tr>\n",
       "    <tr>\n",
       "      <th>19282</th>\n",
       "      <td>MEDIAN HOUSEHOLD INCOME IN THE PAST 12 MONTHS ...</td>\n",
       "      <td>B19013e1</td>\n",
       "      <td>None</td>\n",
       "    </tr>\n",
       "    <tr>\n",
       "      <th>19318</th>\n",
       "      <td>AGGREGATE HOUSEHOLD INCOME IN THE PAST 12 MONT...</td>\n",
       "      <td>B19025e1</td>\n",
       "      <td>None</td>\n",
       "    </tr>\n",
       "    <tr>\n",
       "      <th>20798</th>\n",
       "      <td>AGGREGATE EARNINGS IN THE PAST 12 MONTHS (IN 2...</td>\n",
       "      <td>B19061e1</td>\n",
       "      <td>None</td>\n",
       "    </tr>\n",
       "    <tr>\n",
       "      <th>21690</th>\n",
       "      <td>PER CAPITA INCOME IN THE PAST 12 MONTHS (IN 20...</td>\n",
       "      <td>B19301e1</td>\n",
       "      <td>None</td>\n",
       "    </tr>\n",
       "    <tr>\n",
       "      <th>21710</th>\n",
       "      <td>AGGREGATE INCOME IN THE PAST 12 MONTHS (IN 201...</td>\n",
       "      <td>B19313e1</td>\n",
       "      <td>None</td>\n",
       "    </tr>\n",
       "  </tbody>\n",
       "</table>\n",
       "</div>"
      ],
      "text/plain": [
       "                                               Full_Name Short_Name geometry\n",
       "18942  HOUSEHOLD INCOME IN THE PAST 12 MONTHS (IN 201...   B19001e1     None\n",
       "19282  MEDIAN HOUSEHOLD INCOME IN THE PAST 12 MONTHS ...   B19013e1     None\n",
       "19318  AGGREGATE HOUSEHOLD INCOME IN THE PAST 12 MONT...   B19025e1     None\n",
       "20798  AGGREGATE EARNINGS IN THE PAST 12 MONTHS (IN 2...   B19061e1     None\n",
       "21690  PER CAPITA INCOME IN THE PAST 12 MONTHS (IN 20...   B19301e1     None\n",
       "21710  AGGREGATE INCOME IN THE PAST 12 MONTHS (IN 201...   B19313e1     None"
      ]
     },
     "execution_count": 19,
     "metadata": {},
     "output_type": "execute_result"
    }
   ],
   "source": [
    "df_metadata[df_metadata.Short_Name.isin(shortname)]"
   ]
  },
  {
   "cell_type": "code",
   "execution_count": 24,
   "metadata": {
    "collapsed": false,
    "scrolled": false
   },
   "outputs": [
    {
     "name": "stdout",
     "output_type": "stream",
     "text": [
      "HOUSEHOLD INCOME IN THE PAST 12 MONTHS (IN 2014 INFLATION-ADJUSTED DOLLARS): Total: Households -- (Estimate) \n",
      "\n",
      "MEDIAN HOUSEHOLD INCOME IN THE PAST 12 MONTHS (IN 2014 INFLATION-ADJUSTED DOLLARS): Total: Households -- (Estimate) \n",
      "\n",
      "AGGREGATE HOUSEHOLD INCOME IN THE PAST 12 MONTHS (IN 2014 INFLATION-ADJUSTED DOLLARS): Total: Households -- (Estimate) \n",
      "\n",
      "AGGREGATE EARNINGS IN THE PAST 12 MONTHS (IN 2014 INFLATION-ADJUSTED DOLLARS) FOR HOUSEHOLDS: Total: Households -- (Estimate) \n",
      "\n",
      "PER CAPITA INCOME IN THE PAST 12 MONTHS (IN 2014 INFLATION-ADJUSTED DOLLARS): Total: Total population -- (Estimate) \n",
      "\n",
      "AGGREGATE INCOME IN THE PAST 12 MONTHS (IN 2014 INFLATION-ADJUSTED DOLLARS): Total: Population 15 years and over -- (Estimate) \n",
      "\n"
     ]
    }
   ],
   "source": [
    "for n in names:\n",
    "    print n, '\\n'"
   ]
  },
  {
   "cell_type": "code",
   "execution_count": 25,
   "metadata": {
    "collapsed": false
   },
   "outputs": [
    {
     "data": {
      "text/html": [
       "<div>\n",
       "<table border=\"1\" class=\"dataframe\">\n",
       "  <thead>\n",
       "    <tr style=\"text-align: right;\">\n",
       "      <th></th>\n",
       "      <th>B19001e1</th>\n",
       "      <th>B19013e1</th>\n",
       "      <th>B19025e1</th>\n",
       "      <th>B19061e1</th>\n",
       "      <th>B19301e1</th>\n",
       "      <th>B19313e1</th>\n",
       "    </tr>\n",
       "  </thead>\n",
       "  <tbody>\n",
       "    <tr>\n",
       "      <th>0</th>\n",
       "      <td>952</td>\n",
       "      <td>79048.0</td>\n",
       "      <td>89068400.0</td>\n",
       "      <td>73286700.0</td>\n",
       "      <td>34579.0</td>\n",
       "      <td>89526300.0</td>\n",
       "    </tr>\n",
       "    <tr>\n",
       "      <th>1</th>\n",
       "      <td>2194</td>\n",
       "      <td>64561.0</td>\n",
       "      <td>169066100.0</td>\n",
       "      <td>135867300.0</td>\n",
       "      <td>29509.0</td>\n",
       "      <td>170913300.0</td>\n",
       "    </tr>\n",
       "    <tr>\n",
       "      <th>2</th>\n",
       "      <td>1988</td>\n",
       "      <td>52113.0</td>\n",
       "      <td>126826500.0</td>\n",
       "      <td>103615300.0</td>\n",
       "      <td>24660.0</td>\n",
       "      <td>127764700.0</td>\n",
       "    </tr>\n",
       "    <tr>\n",
       "      <th>3</th>\n",
       "      <td>1542</td>\n",
       "      <td>60556.0</td>\n",
       "      <td>111007100.0</td>\n",
       "      <td>90098600.0</td>\n",
       "      <td>26517.0</td>\n",
       "      <td>113147400.0</td>\n",
       "    </tr>\n",
       "    <tr>\n",
       "      <th>4</th>\n",
       "      <td>2215</td>\n",
       "      <td>60232.0</td>\n",
       "      <td>166286400.0</td>\n",
       "      <td>129561600.0</td>\n",
       "      <td>29219.0</td>\n",
       "      <td>171571900.0</td>\n",
       "    </tr>\n",
       "  </tbody>\n",
       "</table>\n",
       "</div>"
      ],
      "text/plain": [
       "   B19001e1  B19013e1     B19025e1     B19061e1  B19301e1     B19313e1\n",
       "0       952   79048.0   89068400.0   73286700.0   34579.0   89526300.0\n",
       "1      2194   64561.0  169066100.0  135867300.0   29509.0  170913300.0\n",
       "2      1988   52113.0  126826500.0  103615300.0   24660.0  127764700.0\n",
       "3      1542   60556.0  111007100.0   90098600.0   26517.0  113147400.0\n",
       "4      2215   60232.0  166286400.0  129561600.0   29219.0  171571900.0"
      ]
     },
     "execution_count": 25,
     "metadata": {},
     "output_type": "execute_result"
    }
   ],
   "source": [
    "df_income[shortname].head()"
   ]
  },
  {
   "cell_type": "markdown",
   "metadata": {},
   "source": [
    "Here, we plan to choose 'B19013e1': MEDIAN HOUSEHOLD INCOME"
   ]
  },
  {
   "cell_type": "code",
   "execution_count": 26,
   "metadata": {
    "collapsed": false
   },
   "outputs": [
    {
     "data": {
      "text/html": [
       "<div>\n",
       "<table border=\"1\" class=\"dataframe\">\n",
       "  <thead>\n",
       "    <tr style=\"text-align: right;\">\n",
       "      <th></th>\n",
       "      <th>ALAND</th>\n",
       "      <th>AWATER</th>\n",
       "      <th>COUNTYFP</th>\n",
       "      <th>FUNCSTAT</th>\n",
       "      <th>GEOID</th>\n",
       "      <th>GEOID_Data</th>\n",
       "      <th>INTPTLAT</th>\n",
       "      <th>INTPTLON</th>\n",
       "      <th>MTFCC</th>\n",
       "      <th>NAME</th>\n",
       "      <th>NAMELSAD</th>\n",
       "      <th>STATEFP</th>\n",
       "      <th>Shape_Area</th>\n",
       "      <th>Shape_Length</th>\n",
       "      <th>TRACTCE</th>\n",
       "      <th>geometry</th>\n",
       "    </tr>\n",
       "  </thead>\n",
       "  <tbody>\n",
       "    <tr>\n",
       "      <th>0</th>\n",
       "      <td>7608630.0</td>\n",
       "      <td>2509724.0</td>\n",
       "      <td>017</td>\n",
       "      <td>S</td>\n",
       "      <td>42017100102</td>\n",
       "      <td>14000US42017100102</td>\n",
       "      <td>+40.0745595</td>\n",
       "      <td>-074.9405810</td>\n",
       "      <td>G5020</td>\n",
       "      <td>1001.02</td>\n",
       "      <td>Census Tract 1001.02</td>\n",
       "      <td>42</td>\n",
       "      <td>0.001068</td>\n",
       "      <td>0.189252</td>\n",
       "      <td>100102</td>\n",
       "      <td>(POLYGON ((-74.98425399982222 40.0559019997775...</td>\n",
       "    </tr>\n",
       "    <tr>\n",
       "      <th>1</th>\n",
       "      <td>1572547.0</td>\n",
       "      <td>9817.0</td>\n",
       "      <td>017</td>\n",
       "      <td>S</td>\n",
       "      <td>42017100103</td>\n",
       "      <td>14000US42017100103</td>\n",
       "      <td>+40.0687610</td>\n",
       "      <td>-074.9713318</td>\n",
       "      <td>G5020</td>\n",
       "      <td>1001.03</td>\n",
       "      <td>Census Tract 1001.03</td>\n",
       "      <td>42</td>\n",
       "      <td>0.000167</td>\n",
       "      <td>0.070063</td>\n",
       "      <td>100103</td>\n",
       "      <td>(POLYGON ((-74.98489299961221 40.0572869997952...</td>\n",
       "    </tr>\n",
       "    <tr>\n",
       "      <th>2</th>\n",
       "      <td>2409070.0</td>\n",
       "      <td>35484.0</td>\n",
       "      <td>091</td>\n",
       "      <td>S</td>\n",
       "      <td>42091201411</td>\n",
       "      <td>14000US42091201411</td>\n",
       "      <td>+40.1444849</td>\n",
       "      <td>-075.2140269</td>\n",
       "      <td>G5020</td>\n",
       "      <td>2014.11</td>\n",
       "      <td>Census Tract 2014.11</td>\n",
       "      <td>42</td>\n",
       "      <td>0.000258</td>\n",
       "      <td>0.099649</td>\n",
       "      <td>201411</td>\n",
       "      <td>(POLYGON ((-75.23313900006474 40.1509280004269...</td>\n",
       "    </tr>\n",
       "    <tr>\n",
       "      <th>3</th>\n",
       "      <td>1966899.0</td>\n",
       "      <td>12199.0</td>\n",
       "      <td>017</td>\n",
       "      <td>S</td>\n",
       "      <td>42017100104</td>\n",
       "      <td>14000US42017100104</td>\n",
       "      <td>+40.0918428</td>\n",
       "      <td>-074.9501748</td>\n",
       "      <td>G5020</td>\n",
       "      <td>1001.04</td>\n",
       "      <td>Census Tract 1001.04</td>\n",
       "      <td>42</td>\n",
       "      <td>0.000209</td>\n",
       "      <td>0.087246</td>\n",
       "      <td>100104</td>\n",
       "      <td>(POLYGON ((-74.96488299955075 40.0772729996492...</td>\n",
       "    </tr>\n",
       "    <tr>\n",
       "      <th>4</th>\n",
       "      <td>2663937.0</td>\n",
       "      <td>0.0</td>\n",
       "      <td>017</td>\n",
       "      <td>S</td>\n",
       "      <td>42017100105</td>\n",
       "      <td>14000US42017100105</td>\n",
       "      <td>+40.0821350</td>\n",
       "      <td>-074.9478227</td>\n",
       "      <td>G5020</td>\n",
       "      <td>1001.05</td>\n",
       "      <td>Census Tract 1001.05</td>\n",
       "      <td>42</td>\n",
       "      <td>0.000281</td>\n",
       "      <td>0.079053</td>\n",
       "      <td>100105</td>\n",
       "      <td>(POLYGON ((-74.96310300020326 40.0729419995736...</td>\n",
       "    </tr>\n",
       "  </tbody>\n",
       "</table>\n",
       "</div>"
      ],
      "text/plain": [
       "       ALAND     AWATER COUNTYFP FUNCSTAT        GEOID          GEOID_Data  \\\n",
       "0  7608630.0  2509724.0      017        S  42017100102  14000US42017100102   \n",
       "1  1572547.0     9817.0      017        S  42017100103  14000US42017100103   \n",
       "2  2409070.0    35484.0      091        S  42091201411  14000US42091201411   \n",
       "3  1966899.0    12199.0      017        S  42017100104  14000US42017100104   \n",
       "4  2663937.0        0.0      017        S  42017100105  14000US42017100105   \n",
       "\n",
       "      INTPTLAT      INTPTLON  MTFCC     NAME              NAMELSAD STATEFP  \\\n",
       "0  +40.0745595  -074.9405810  G5020  1001.02  Census Tract 1001.02      42   \n",
       "1  +40.0687610  -074.9713318  G5020  1001.03  Census Tract 1001.03      42   \n",
       "2  +40.1444849  -075.2140269  G5020  2014.11  Census Tract 2014.11      42   \n",
       "3  +40.0918428  -074.9501748  G5020  1001.04  Census Tract 1001.04      42   \n",
       "4  +40.0821350  -074.9478227  G5020  1001.05  Census Tract 1001.05      42   \n",
       "\n",
       "   Shape_Area  Shape_Length TRACTCE  \\\n",
       "0    0.001068      0.189252  100102   \n",
       "1    0.000167      0.070063  100103   \n",
       "2    0.000258      0.099649  201411   \n",
       "3    0.000209      0.087246  100104   \n",
       "4    0.000281      0.079053  100105   \n",
       "\n",
       "                                            geometry  \n",
       "0  (POLYGON ((-74.98425399982222 40.0559019997775...  \n",
       "1  (POLYGON ((-74.98489299961221 40.0572869997952...  \n",
       "2  (POLYGON ((-75.23313900006474 40.1509280004269...  \n",
       "3  (POLYGON ((-74.96488299955075 40.0772729996492...  \n",
       "4  (POLYGON ((-74.96310300020326 40.0729419995736...  "
      ]
     },
     "execution_count": 26,
     "metadata": {},
     "output_type": "execute_result"
    }
   ],
   "source": [
    "df_geodata = gpd.read_file(filepath)\n",
    "df_geodata.head()"
   ]
  },
  {
   "cell_type": "code",
   "execution_count": 27,
   "metadata": {
    "collapsed": false
   },
   "outputs": [
    {
     "data": {
      "text/plain": [
       "'MultiPolygon'"
      ]
     },
     "execution_count": 27,
     "metadata": {},
     "output_type": "execute_result"
    }
   ],
   "source": [
    "df_geodata.geometry[0].geom_type"
   ]
  },
  {
   "cell_type": "code",
   "execution_count": 28,
   "metadata": {
    "collapsed": false
   },
   "outputs": [
    {
     "data": {
      "text/plain": [
       "3218"
      ]
     },
     "execution_count": 28,
     "metadata": {},
     "output_type": "execute_result"
    }
   ],
   "source": [
    "len(df_geodata)"
   ]
  },
  {
   "cell_type": "code",
   "execution_count": 29,
   "metadata": {
    "collapsed": false
   },
   "outputs": [
    {
     "data": {
      "text/plain": [
       "4.35052827843381"
      ]
     },
     "execution_count": 29,
     "metadata": {},
     "output_type": "execute_result"
    }
   ],
   "source": [
    "14000/3218.0"
   ]
  },
  {
   "cell_type": "code",
   "execution_count": 31,
   "metadata": {
    "collapsed": false
   },
   "outputs": [
    {
     "data": {
      "image/svg+xml": [
       "<svg xmlns=\"http://www.w3.org/2000/svg\" xmlns:xlink=\"http://www.w3.org/1999/xlink\" width=\"100.0\" height=\"100.0\" viewBox=\"-74.9873208402 40.0455761601 0.0815086799856 0.0499936799683\" preserveAspectRatio=\"xMinYMin meet\"><g transform=\"matrix(1,0,0,-1,0,80.1411460001)\"><g><path fill-rule=\"evenodd\" fill=\"#66cc99\" stroke=\"#555555\" stroke-width=\"0.00163017359971\" opacity=\"0.6\" d=\"M -74.9842539998,40.0559019998 L -74.9835440004,40.0566629998 L -74.9828909999,40.057351 L -74.9825690004,40.0576670002 L -74.9822859999,40.0579259996 L -74.9816009998,40.0584939997 L -74.980903,40.0590049999 L -74.9806829997,40.0591520004 L -74.9801399999,40.0595010003 L -74.9794729997,40.0598880001 L -74.97909,40.0600939997 L -74.9787410001,40.0602709998 L -74.977628,40.0607949997 L -74.9771949998,40.0610060004 L -74.9771139997,40.0610459996 L -74.9759219996,40.0616149997 L -74.9753140003,40.0618950001 L -74.9748840003,40.0621039998 L -74.9745949996,40.0622409998 L -74.9738419999,40.0625980001 L -74.9734210003,40.0627970003 L -74.9730850001,40.0629589997 L -74.9727790004,40.0631070002 L -74.9722599998,40.0633519998 L -74.9718430004,40.0635540001 L -74.9713989997,40.0637619998 L -74.9710869997,40.0639080003 L -74.9708030001,40.0640329997 L -74.9706900002,40.0640830002 L -74.9705659999,40.064137 L -74.9701800001,40.0643190003 L -74.968792,40.0650099998 L -74.9679919999,40.0654500003 L -74.9671960001,40.0659269998 L -74.9666560004,40.0662959998 L -74.9664449996,40.0664400001 L -74.9658770004,40.0668569996 L -74.9656560001,40.0670260001 L -74.9653670003,40.0672600001 L -74.9652589998,40.0673479997 L -74.964814,40.0677320003 L -74.9644880002,40.0680250004 L -74.9642409996,40.0682350001 L -74.9637830001,40.0686250001 L -74.9637460002,40.0686569998 L -74.9633560002,40.0689499998 L -74.9628280001,40.0693260001 L -74.9624129999,40.0695929998 L -74.962104,40.0697780003 L -74.961441,40.0701450001 L -74.9611540003,40.0702870003 L -74.9610950002,40.0703129997 L -74.9610580003,40.0703299996 L -74.9610010004,40.0703539998 L -74.960953,40.070376 L -74.960661,40.0704980002 L -74.9600380001,40.0707320002 L -74.9596179996,40.0708759996 L -74.9591719997,40.0710109996 L -74.958788,40.0711129998 L -74.9582349996,40.0712479997 L -74.9578699999,40.0713299999 L -74.9571950002,40.0714760003 L -74.9570099998,40.0715160004 L -74.9566749997,40.0715920003 L -74.9557150003,40.0718260003 L -74.9550769997,40.071996 L -74.9545509997,40.0721469998 L -74.9540320001,40.072307 L -74.9535729996,40.0724579997 L -74.9528040001,40.0727289996 L -74.9520909996,40.0729950002 L -74.9517710001,40.0731219998 L -74.9511920004,40.0733640001 L -74.9507790003,40.0735469996 L -74.9505709997,40.0736390002 L -74.9499069996,40.0739510002 L -74.9493859999,40.0742099996 L -74.9493200004,40.0742430002 L -74.9488860002,40.0744689998 L -74.9483990002,40.0747350004 L -74.9479389997,40.0750000001 L -74.9473100004,40.0753809996 L -74.946328,40.0759990003 L -74.9458119996,40.0763229999 L -74.9418789999,40.0788050002 L -74.9411440002,40.0792780004 L -74.9406829996,40.079582 L -74.9403349998,40.0798119998 L -74.9390849997,40.0806699998 L -74.9389640004,40.0807530001 L -74.9382940001,40.0812240002 L -74.9379680003,40.0814659997 L -74.9376730002,40.0816710001 L -74.9376390004,40.0817100001 L -74.9373489997,40.0818949997 L -74.9369090001,40.0822020003 L -74.9365729998,40.08243 L -74.9363399999,40.0826029999 L -74.9353560004,40.0832900001 L -74.9351829996,40.0833930004 L -74.9349289996,40.083561 L -74.9348270003,40.0836240002 L -74.9346310002,40.0833969997 L -74.9344140001,40.0831419996 L -74.9341820002,40.082857 L -74.9341280004,40.0827899996 L -74.9341030002,40.08276 L -74.9340260002,40.0828099996 L -74.9339650001,40.0828499996 L -74.9329079999,40.0835110004 L -74.9324349997,40.083813 L -74.93174,40.0842379998 L -74.9304940001,40.0850159997 L -74.9303899998,40.0850799999 L -74.9300250001,40.0853040004 L -74.9292209998,40.0858080002 L -74.928775,40.0860869996 L -74.9284510003,40.0862849998 L -74.9234049996,40.0894249998 L -74.9228579996,40.0897559997 L -74.9222480002,40.0900980002 L -74.9218459997,40.0903120002 L -74.9213379996,40.0905630001 L -74.9208119997,40.0908020003 L -74.9204649999,40.0909499999 L -74.9198999999,40.0911740004 L -74.9193970001,40.0913589999 L -74.9187980003,40.0915590001 L -74.9180809996,40.0917669998 L -74.9175009999,40.0919150004 L -74.9167739996,40.0920799999 L -74.9164879999,40.0921359998 L -74.9156479999,40.0922820002 L -74.9152399999,40.0923469996 L -74.9145860003,40.0924410004 L -74.914248,40.0924899999 L -74.9138279996,40.092551 L -74.9138420002,40.0925089999 L -74.913856,40.0924669998 L -74.9145810001,40.0902829998 L -74.9147479997,40.0891640003 L -74.9149530002,40.0886039997 L -74.9148600004,40.0884109998 L -74.9147970002,40.08828 L -74.9147309998,40.087948 L -74.9146889997,40.087734 L -74.9146800002,40.0877190002 L -74.9142720003,40.0869810004 L -74.9138879996,40.086387 L -74.9138149999,40.0862750002 L -74.9137139997,40.0861469997 L -74.9134439998,40.0858040001 L -74.9133229997,40.0857260001 L -74.9129820001,40.0855049998 L -74.9128840001,40.0854420004 L -74.9121739997,40.0851470003 L -74.9117540001,40.0850399999 L -74.9114539998,40.084964 L -74.9111569996,40.0847750003 L -74.9107149999,40.0845089997 L -74.9106129997,40.0843300004 L -74.9099970001,40.0832520002 L -74.9096700003,40.0826789998 L -74.909353,40.0805339998 L -74.909215,40.079601 L -74.9091679996,40.0792819997 L -74.9091200001,40.0789640003 L -74.9090189999,40.0782800002 L -74.9089900004,40.0780820001 L -74.9089189998,40.0775960002 L -74.908864,40.0772240001 L -74.9088310003,40.0769989996 L -74.908885,40.0748680003 L -74.9089100003,40.0739100001 L -74.9090699996,40.0710779999 L -74.9091030002,40.0705049996 L -74.9091640003,40.070495 L -74.9102019996,40.070338 L -74.9111890002,40.0702620001 L -74.9118259999,40.0703030002 L -74.9119290001,40.0703080004 L -74.9123699998,40.0703309997 L -74.913759,40.0703679996 L -74.9142239998,40.0703539998 L -74.9147180001,40.0703909997 L -74.915241,40.0704410003 L -74.9163570002,40.0706130001 L -74.9179679998,40.0709110003 L -74.9180130001,40.070922 L -74.9188409996,40.0711279996 L -74.9188720001,40.0711339998 L -74.9196000004,40.0712820004 L -74.9202889998,40.0713479998 L -74.9208739998,40.0714039997 L -74.9217079996,40.0714380004 L -74.9218980003,40.0714459998 L -74.9231719997,40.0713429996 L -74.9240729999,40.071235 L -74.9243609997,40.0711860004 L -74.9248990002,40.0710949998 L -74.9251330002,40.0710559998 L -74.9259520002,40.0708890002 L -74.9260130003,40.0708759996 L -74.9273079998,40.0705439996 L -74.9282979996,40.0702450002 L -74.9283959996,40.0702149997 L -74.9298199996,40.069793 L -74.9306419997,40.0695369999 L -74.9313059998,40.0692989997 L -74.9315720003,40.0692039999 L -74.9326450004,40.0687850003 L -74.9327289997,40.0687539998 L -74.932813,40.0687220001 L -74.932948,40.0686709996 L -74.9329700001,40.0686630001 L -74.9329819997,40.0686579999 L -74.9330140003,40.0686460002 L -74.9330249999,40.068642 L -74.9331500003,40.0685949997 L -74.9332529996,40.0685559997 L -74.9338819999,40.0682920001 L -74.9339609999,40.0682590004 L -74.9350420003,40.0678359997 L -74.9361779996,40.0673240004 L -74.9364630002,40.0671959999 L -74.9386759997,40.0661979997 L -74.938897,40.0660989997 L -74.9426579999,40.0643020004 L -74.9430809996,40.0641010002 L -74.9447120002,40.0633230003 L -74.9468360001,40.0623149996 L -74.9471379996,40.0621609997 L -74.947204,40.062127 L -74.9472809999,40.062088 L -74.9473670003,40.0620439997 L -74.9475230003,40.0619629996 L -74.9509120001,40.0602349999 L -74.9533360004,40.058989 L -74.9535450001,40.0588889999 L -74.9552090004,40.0580970003 L -74.9553400001,40.0580289998 L -74.9568830003,40.0572289998 L -74.958126,40.0566429998 L -74.9619809997,40.0549459998 L -74.9622529997,40.0548109998 L -74.9630460003,40.0544149996 L -74.9639289996,40.0540370001 L -74.9650629998,40.0535510002 L -74.9668910004,40.0527160003 L -74.9669749998,40.0526720001 L -74.9687889998,40.0516479997 L -74.972011,40.049784 L -74.973981,40.0485950001 L -74.9749960001,40.0495059998 L -74.9760120002,40.0504170004 L -74.976281,40.0506589999 L -74.9779230001,40.0521320004 L -74.9781859997,40.0522899996 L -74.9784150004,40.052415 L -74.9785579998,40.052493 L -74.9790940002,40.0528609998 L -74.9794660003,40.053157 L -74.9795489996,40.0532449996 L -74.979695,40.0533990004 L -74.979715,40.0534730002 L -74.9797350001,40.053547 L -74.9800280001,40.0536369996 L -74.9820220003,40.0537270002 L -74.9822019996,40.0538040002 L -74.9825490003,40.0539529998 L -74.9826660003,40.0539529998 L -74.9831940004,40.0542229997 L -74.9834870004,40.0544480002 L -74.983555,40.0545379998 L -74.9838380004,40.054912 L -74.9838890001,40.0549790004 L -74.9839039999,40.0549940002 L -74.9839320003,40.0550160003 L -74.9839680001,40.0550429997 L -74.9839969997,40.0550659999 L -74.9840729996,40.0551239999 L -74.9841899996,40.0553490004 L -74.9841899996,40.0554699996 L -74.984199,40.0555030003 L -74.9842030002,40.055516 L -74.9841899996,40.055575 L -74.9843020002,40.0558500001 L -74.9842539998,40.0559019998 z\" /></g></g></svg>"
      ],
      "text/plain": [
       "<shapely.geometry.multipolygon.MultiPolygon at 0x7eff507fbd50>"
      ]
     },
     "execution_count": 31,
     "metadata": {},
     "output_type": "execute_result"
    }
   ],
   "source": [
    "df_geodata.geometry[0]"
   ]
  },
  {
   "cell_type": "code",
   "execution_count": null,
   "metadata": {
    "collapsed": true
   },
   "outputs": [],
   "source": []
  }
 ],
 "metadata": {
  "kernelspec": {
   "display_name": "Python [py36]",
   "language": "python",
   "name": "Python [py36]"
  },
  "language_info": {
   "codemirror_mode": {
    "name": "ipython",
    "version": 3
   },
   "file_extension": ".py",
   "mimetype": "text/x-python",
   "name": "python",
   "nbconvert_exporter": "python",
   "pygments_lexer": "ipython3",
   "version": "3.6.0"
  }
 },
 "nbformat": 4,
 "nbformat_minor": 2
}
